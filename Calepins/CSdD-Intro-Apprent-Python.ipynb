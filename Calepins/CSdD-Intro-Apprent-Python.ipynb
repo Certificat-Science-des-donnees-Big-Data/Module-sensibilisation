{
 "cells": [
  {
   "cell_type": "markdown",
   "metadata": {},
   "source": [
    "<center>\n",
    "<a href=\"http://www.insa-toulouse.fr/\" ><img src=\"http://www.math.univ-toulouse.fr/~besse/Wikistat/Images/logo-insa.jpg\" style=\"float:right; max-width: 120px; display: inline\" alt=\"INSA\"/></a> \n",
    "\n",
    "<a href=\"http://wikistat.fr/\" ><img src=\"http://www.math.univ-toulouse.fr/~besse/Wikistat/Images/wikistat.jpg\" style=\"max-width: 250px; display: inline\"  alt=\"Wikistat\"/></a>\n",
    "\n",
    "</center>\n",
    "\n",
    "# [Certificat Science des Données](https://github.com/Certificat-sciences-des-donnees-bigdata) [Module de Sensibilisation](https://github.com/Certificat-sciences-des-donnees-bigdata/Module-sensibilisation)"
   ]
  },
  {
   "cell_type": "markdown",
   "metadata": {},
   "source": [
    "# [Introduction à l'Apprentissage Statistique]()\n",
    "\n",
    "#  Exemple \"Jouet\": Discrimination de [`blobs`](http://scikit-learn.org/stable/modules/generated/sklearn.datasets.make_blobs.html) \n",
    "\n",
    "**Résumé**: Les méthodes de [discrimination](http://wikistat.fr/pdf/st-m-app-intro.pdf) sont  comparées sur un jeu de données fictif obtenu par la commande `make_blobs` de Scikit-learn. L'objectif est de mettre en évidence le rôle des paramètres de complexité de différentes méthodes (régression logistique, k-nn, réseaux de neurones, arbre de décision, bagging, svm) et de comparer les formes spécifiques des frontières estimées par chacune d'elle. Cela permet d'illustrer les principales méthodes d'apprentissage de [*Scikit-learn*](http://scikit-learn.org/stable/)\n",
    "\n",
    " <FONT COLOR=\"Red\">\n",
    "**Ce tutoriel est divisé en deux parties: la première du cours  du module Sensibilisation plus des compléments. **\n",
    "1. Apprentissage et prévision\n",
    "2. Compléments correspondant au module Immersion\n",
    "</font>"
   ]
  },
  {
   "cell_type": "markdown",
   "metadata": {},
   "source": [
    "## 1 Introduction\n",
    "Les données se présentent sous la forme de nuages de points dans $R^2$ plus présentant des groupes plus ou moins distincts ou mélangés. L'objectif est d'apprendre ces données très particulières afin de discriminer les deux classes. Les données étant simplement dans $R^2$, il est facile de prévoir la classe de chaque point du plan et ainsi de visualiser la frontière entre les prévisions des deux classes. L'intérêt est de représenter ainsi facilement le rôle jouer par les paramètres de complexité de chaque méthode et de comparer les formes des frontières obtenues et donc la plus ou moins bonne adéquation d'une méthode à la spécificité de ces données simulées. "
   ]
  },
  {
   "cell_type": "code",
   "execution_count": null,
   "metadata": {
    "ExecuteTime": {
     "end_time": "2019-09-03T12:03:03.442471Z",
     "start_time": "2019-09-03T12:03:03.154075Z"
    }
   },
   "outputs": [],
   "source": [
    "%matplotlib inline\n",
    "from matplotlib import pyplot as plt\n",
    "# option d'impression\n",
    "import numpy as np\n",
    "np.set_printoptions(precision=3)"
   ]
  },
  {
   "cell_type": "markdown",
   "metadata": {},
   "source": [
    "## 2 Génération des données\n",
    "Génération aléatoire de 20 groupes de nuages de 1000 points dans R2. Le générateur de nombres aléatoires est initialisés par souci de reproductibilité. Les points sont séparés en deux classes. "
   ]
  },
  {
   "cell_type": "code",
   "execution_count": null,
   "metadata": {
    "ExecuteTime": {
     "end_time": "2019-09-03T12:03:03.959335Z",
     "start_time": "2019-09-03T12:03:03.444622Z"
    }
   },
   "outputs": [],
   "source": [
    "from sklearn.datasets import make_blobs\n",
    "\n",
    "X, y = make_blobs(n_samples=1000, centers=20, random_state=123)\n",
    "labels = [\"b\", \"r\"]\n",
    "y = np.take(labels, (y < 10))\n",
    "print(X)\n",
    "print(y[:5])"
   ]
  },
  {
   "cell_type": "markdown",
   "metadata": {},
   "source": [
    "Représentation des données dans le plan."
   ]
  },
  {
   "cell_type": "code",
   "execution_count": null,
   "metadata": {
    "ExecuteTime": {
     "end_time": "2019-09-03T12:03:04.279418Z",
     "start_time": "2019-09-03T12:03:03.962162Z"
    }
   },
   "outputs": [],
   "source": [
    "plt.figure()\n",
    "plt.scatter(X[:, 0], X[:, 1], c=y)\n",
    "plt.xlim(-10, 10)\n",
    "plt.ylim(-10, 10)\n",
    "plt.show()"
   ]
  },
  {
   "cell_type": "markdown",
   "metadata": {},
   "source": [
    "## 3 Les *classifieurs* de Scikit-learn\n",
    "\n",
    "Tous les algorithmes et méthodes de Scikit-learn se présentent sous la forme d'une combinaison de 3 \"interfaces\":\n",
    "* estimation pour ajuster des modèles,\n",
    "* prévision pour de nouvelles observations,\n",
    "* transformation pour convertir des données.\n",
    "\n",
    "Celles-ci peuvent être facilement combinées et enchaînées en un *pipeline*."
   ]
  },
  {
   "cell_type": "markdown",
   "metadata": {},
   "source": [
    "La fonction définie ci-dessous prévoit chaque point d'une grille du plan et trace un graphe de contour des probabilités. Elle permet indirectment une représentation des frontières construites par un classifieur."
   ]
  },
  {
   "cell_type": "code",
   "execution_count": null,
   "metadata": {
    "ExecuteTime": {
     "end_time": "2019-09-03T12:03:04.335929Z",
     "start_time": "2019-09-03T12:03:04.282162Z"
    }
   },
   "outputs": [],
   "source": [
    "def plot_surface(clf, X, y, xlim=(-10, 10), ylim=(-10, 10), n_steps=250):\n",
    "    fig = plt.figure()\n",
    "    xx, yy = np.meshgrid(np.linspace(xlim[0], xlim[1], n_steps), np.linspace(ylim[0], ylim[1], n_steps))\n",
    "    if hasattr(clf, \"decision_function\"):\n",
    "        z = clf.decision_function(np.c_[xx.ravel(), yy.ravel()])\n",
    "    else:\n",
    "        z = clf.predict_proba(np.c_[xx.ravel(), yy.ravel()])[:, 1]      \n",
    "    z = z.reshape(xx.shape)\n",
    "    plt.contourf(xx, yy, z, alpha=0.8, cmap=plt.cm.RdBu_r)\n",
    "    plt.scatter(X[:, 0], X[:, 1], c=y)\n",
    "    plt.xlim(*xlim)\n",
    "    plt.ylim(*ylim)\n",
    "    plt.show()"
   ]
  },
  {
   "cell_type": "markdown",
   "metadata": {},
   "source": [
    "# <FONT COLOR=\"Red\">Première partie: Apprentissage et Prévision</font>\n",
    "\n",
    "### 3.1 [Régression logistique](http://wikistat.fr/pdf/st-m-app-rlogit.pdf)\n",
    "Exemple d'utilisation de la régression logistique pour discriminer les bleus des rouges."
   ]
  },
  {
   "cell_type": "code",
   "execution_count": null,
   "metadata": {
    "ExecuteTime": {
     "end_time": "2019-09-03T12:03:04.378951Z",
     "start_time": "2019-09-03T12:03:04.338412Z"
    }
   },
   "outputs": [],
   "source": [
    "# Importation de la fonction\n",
    "from sklearn.linear_model import LogisticRegression\n",
    "logitReg = LogisticRegression()\n",
    "# Les options par défaut de l'algorithme\n",
    "logitReg.fit(X,y)"
   ]
  },
  {
   "cell_type": "markdown",
   "metadata": {},
   "source": [
    "#### Prévision\n",
    "Prévision de la classe des 5 premiers points"
   ]
  },
  {
   "cell_type": "code",
   "execution_count": null,
   "metadata": {
    "ExecuteTime": {
     "end_time": "2019-09-03T12:03:04.386520Z",
     "start_time": "2019-09-03T12:03:04.381875Z"
    }
   },
   "outputs": [],
   "source": [
    "print(logitReg.predict(X[:5])) "
   ]
  },
  {
   "cell_type": "markdown",
   "metadata": {},
   "source": [
    "Ou de la probabilité des classes."
   ]
  },
  {
   "cell_type": "code",
   "execution_count": null,
   "metadata": {
    "ExecuteTime": {
     "end_time": "2019-09-03T12:03:04.394936Z",
     "start_time": "2019-09-03T12:03:04.390168Z"
    }
   },
   "outputs": [],
   "source": [
    "print(logitReg.predict_proba(X[:5]))"
   ]
  },
  {
   "cell_type": "markdown",
   "metadata": {},
   "source": [
    "La fonction ci-dessous trace la frontière entre les deux classes avec d'un côté la zone rouge la plus probable *vs.* la zone bleue."
   ]
  },
  {
   "cell_type": "code",
   "execution_count": null,
   "metadata": {
    "ExecuteTime": {
     "end_time": "2019-09-03T12:03:04.692880Z",
     "start_time": "2019-09-03T12:03:04.397712Z"
    }
   },
   "outputs": [],
   "source": [
    "plot_surface(logitReg, X, y)"
   ]
  },
  {
   "cell_type": "markdown",
   "metadata": {},
   "source": [
    "**Q** Que dire de la pertinence d'une frontière produite par la régression logistique quadratique.\n",
    "\n",
    "### 3.1 [*k* plus proches voisins](http://wikistat.fr/pdf/st-m-app-add.pdf)\n",
    "#### Estimation"
   ]
  },
  {
   "cell_type": "code",
   "execution_count": null,
   "metadata": {
    "ExecuteTime": {
     "end_time": "2019-09-03T12:03:04.718916Z",
     "start_time": "2019-09-03T12:03:04.695245Z"
    }
   },
   "outputs": [],
   "source": [
    "# Importation de la fonction\n",
    "from sklearn.neighbors import KNeighborsClassifier  \n",
    "# Détermination des paramètres et définition de l'estimateur\n",
    "knnF = KNeighborsClassifier(n_neighbors=5)\n",
    "\n",
    "# Apprentissage ou estimation du modèle sur l'échantillon d'apprentissage \n",
    "# mais il ne se passe rien  dans le cas de *k*-nn avant en dehors de la phase de prévision. \n",
    "knnF.fit(X, y)\n",
    "# Les options de cet algorithmes:"
   ]
  },
  {
   "cell_type": "markdown",
   "metadata": {},
   "source": [
    "#### Prévision\n",
    "Prévision de la classe des 5 premiers points"
   ]
  },
  {
   "cell_type": "code",
   "execution_count": null,
   "metadata": {
    "ExecuteTime": {
     "end_time": "2019-09-03T12:03:04.729269Z",
     "start_time": "2019-09-03T12:03:04.724534Z"
    }
   },
   "outputs": [],
   "source": [
    "print(knnF.predict(X[:5])) "
   ]
  },
  {
   "cell_type": "markdown",
   "metadata": {},
   "source": [
    "Ou de la probabilité des classes."
   ]
  },
  {
   "cell_type": "code",
   "execution_count": null,
   "metadata": {
    "ExecuteTime": {
     "end_time": "2019-09-03T12:03:04.743250Z",
     "start_time": "2019-09-03T12:03:04.731022Z"
    }
   },
   "outputs": [],
   "source": [
    "print(knnF.predict_proba(X[:5]))"
   ]
  },
  {
   "cell_type": "code",
   "execution_count": null,
   "metadata": {
    "ExecuteTime": {
     "end_time": "2019-09-03T12:03:05.764984Z",
     "start_time": "2019-09-03T12:03:04.745901Z"
    }
   },
   "outputs": [],
   "source": [
    "knnF = KNeighborsClassifier(n_neighbors=50)\n",
    "knnF.fit(X, y)\n",
    "plot_surface(knnF, X, y)"
   ]
  },
  {
   "cell_type": "markdown",
   "metadata": {},
   "source": [
    "Ce qui donne une bonne idée de  la forme des frontières estimées entre les classes.\n",
    "\n",
    "Faire varier le paramère `n_neighbors` (1 à 500) et observer l'impact sur la forme des classes."
   ]
  },
  {
   "cell_type": "markdown",
   "metadata": {},
   "source": [
    "# <FONT COLOR=\"Red\">Compléments: Méthodes d'Apprentissage </font> pour le [Module d'Immersion](https://github.com/Certificat-sciences-des-donnees-bigdata/Module-immersion)"
   ]
  },
  {
   "cell_type": "markdown",
   "metadata": {},
   "source": [
    "### 3.2 [Arbre binaire de décision](http://wikistat.fr/pdf/st-m-app-cart.pdf)\n",
    "\n",
    "Les frontières sont construites à partir de parallèles aux axes. Faire varier la profondeur maximale `max_depth` de l'arbre."
   ]
  },
  {
   "cell_type": "code",
   "execution_count": null,
   "metadata": {
    "ExecuteTime": {
     "end_time": "2019-09-03T12:03:06.037721Z",
     "start_time": "2019-09-03T12:03:05.766477Z"
    }
   },
   "outputs": [],
   "source": [
    "from sklearn.tree import DecisionTreeClassifier \n",
    "treeF = DecisionTreeClassifier(max_depth=2)\n",
    "treeF.fit(X, y)\n",
    "plot_surface(treeF, X, y)"
   ]
  },
  {
   "cell_type": "markdown",
   "metadata": {},
   "source": [
    "### 3.3 [Forêts aléatoires](http://wikistat.fr/pdf/st-m-app-agreg.pdf) \n",
    "Obtenues par agrégation d'arbres, une forêt arrondit les frontières. Avec seulement 2 variables (dans R2), cela revient à faire du *bagging*. Faire variaer le nombre d'arbres: `n_estimators` (1 à 20), de la forêt. "
   ]
  },
  {
   "cell_type": "code",
   "execution_count": null,
   "metadata": {
    "ExecuteTime": {
     "end_time": "2019-09-03T12:03:06.376706Z",
     "start_time": "2019-09-03T12:03:06.039662Z"
    }
   },
   "outputs": [],
   "source": [
    "from sklearn.ensemble import RandomForestClassifier \n",
    "rfF = RandomForestClassifier(n_estimators=2)\n",
    "rfF.fit(X, y)\n",
    "plot_surface(rfF, X, y)"
   ]
  },
  {
   "cell_type": "markdown",
   "metadata": {},
   "source": [
    "### 3.4 Séparateur à Vaste Marge ([SVM](http://wikistat.fr/pdf/st-m-app-svm.pdf))\n",
    "SVM linéaire, pas très intéressant sur ces données, puis gaussien. Faire varier la pénalisation `C` et l'étendue du noyau gaussien."
   ]
  },
  {
   "cell_type": "code",
   "execution_count": null,
   "metadata": {
    "ExecuteTime": {
     "end_time": "2019-09-03T12:03:07.055932Z",
     "start_time": "2019-09-03T12:03:06.378360Z"
    }
   },
   "outputs": [],
   "source": [
    "# Noyau linéaire\n",
    "from sklearn.svm import SVC\n",
    "svmF = SVC(kernel=\"linear\",C=1)  # try kernel=\"rbf\" instead\n",
    "svmF.fit(X, y)\n",
    "plot_surface(svmF, X, y)"
   ]
  },
  {
   "cell_type": "markdown",
   "metadata": {},
   "source": [
    "Faire varier C de 10-5 à 10^5, gamma de 0.001 à 100"
   ]
  },
  {
   "cell_type": "code",
   "execution_count": null,
   "metadata": {
    "ExecuteTime": {
     "end_time": "2019-09-03T12:03:08.008974Z",
     "start_time": "2019-09-03T12:03:07.057893Z"
    }
   },
   "outputs": [],
   "source": [
    "# Noyau gaussien avec valeurs par défaut de C et gamma\n",
    "from sklearn.svm import SVC\n",
    "svmF = SVC(kernel=\"rbf\", C=1, gamma='auto')  \n",
    "svmF.fit(X, y)\n",
    "plot_surface(svmF, X, y)"
   ]
  },
  {
   "cell_type": "markdown",
   "metadata": {},
   "source": [
    "### 3.5 [Perceptron multicouches](http://wikistat.fr/pdf/st-m-app-rn.pdf)\n",
    "Faire varier le nombre de couches cachées, le nombe de neurones sur ces couches, la pénalisation *l2* `alpha`. "
   ]
  },
  {
   "cell_type": "code",
   "execution_count": null,
   "metadata": {
    "ExecuteTime": {
     "end_time": "2019-09-03T12:03:10.141360Z",
     "start_time": "2019-09-03T12:03:08.010566Z"
    }
   },
   "outputs": [],
   "source": [
    "# Trois couches de 100 neurones avec alpha par défaut\n",
    "from sklearn.neural_network import MLPClassifier\n",
    "nnetF = MLPClassifier(hidden_layer_sizes=(100, 100, 100),alpha=0.0001)\n",
    "nnetF.fit(X, y)\n",
    "plot_surface(nnetF, X, y)"
   ]
  },
  {
   "cell_type": "markdown",
   "metadata": {},
   "source": [
    "### 3.6 Processus gaussien\n",
    "Consulter la [doc](http://scikit-learn.org/stable/modules/generated/sklearn.gaussian_process.GaussianProcessClassifier.html) en ligne. "
   ]
  },
  {
   "cell_type": "code",
   "execution_count": null,
   "metadata": {
    "ExecuteTime": {
     "end_time": "2019-09-03T12:03:14.102765Z",
     "start_time": "2019-09-03T12:03:10.143035Z"
    }
   },
   "outputs": [],
   "source": [
    "from sklearn.gaussian_process import GaussianProcessClassifier\n",
    "pgF = GaussianProcessClassifier()\n",
    "pgF.fit(X, y)\n",
    "plot_surface(pgF, X, y)         "
   ]
  },
  {
   "cell_type": "markdown",
   "metadata": {},
   "source": [
    "#### Conclusion: \n",
    "**Q** Quelles sont les méthodes ou modèles les plus adaptés à ces données? Est-ce généralisable à d'autres?"
   ]
  }
 ],
 "metadata": {
  "kernelspec": {
   "display_name": "Python 3",
   "language": "python",
   "name": "python3"
  },
  "language_info": {
   "codemirror_mode": {
    "name": "ipython",
    "version": 3
   },
   "file_extension": ".py",
   "mimetype": "text/x-python",
   "name": "python",
   "nbconvert_exporter": "python",
   "pygments_lexer": "ipython3",
   "version": "3.8.3"
  },
  "latex_envs": {
   "LaTeX_envs_menu_present": true,
   "autoclose": false,
   "autocomplete": true,
   "bibliofile": "biblio.bib",
   "cite_by": "apalike",
   "current_citInitial": 1,
   "eqLabelWithNumbers": true,
   "eqNumInitial": 1,
   "hotkeys": {
    "equation": "Ctrl-E",
    "itemize": "Ctrl-I"
   },
   "labels_anchors": false,
   "latex_user_defs": false,
   "report_style_numbering": false,
   "user_envs_cfg": false
  },
  "toc": {
   "base_numbering": 1,
   "nav_menu": {},
   "number_sections": true,
   "sideBar": true,
   "skip_h1_title": true,
   "title_cell": "Table of Contents",
   "title_sidebar": "Contents",
   "toc_cell": false,
   "toc_position": {},
   "toc_section_display": true,
   "toc_window_display": false
  }
 },
 "nbformat": 4,
 "nbformat_minor": 1
}
